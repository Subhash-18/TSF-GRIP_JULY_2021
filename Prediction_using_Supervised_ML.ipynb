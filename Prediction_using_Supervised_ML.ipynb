{
  "nbformat": 4,
  "nbformat_minor": 0,
  "metadata": {
    "colab": {
      "name": "Prediction using Supervised ML.ipynb",
      "provenance": [],
      "collapsed_sections": []
    },
    "kernelspec": {
      "name": "python3",
      "display_name": "Python 3"
    },
    "language_info": {
      "name": "python"
    }
  },
  "cells": [
    {
      "cell_type": "markdown",
      "metadata": {
        "id": "yY__sFPHkj2l"
      },
      "source": [
        "**GRIP** (Graduate Rotational Internship Program) - **THE SPARKS FOUNDATION**\n",
        "\n",
        "# **DATA SCIENCE & BUSINESS ANALYTICS INTERNSHIP** \n",
        "\n",
        "\n",
        "\n",
        "---\n",
        "\n"
      ]
    },
    {
      "cell_type": "markdown",
      "metadata": {
        "id": "7AFqpfR3rvkK"
      },
      "source": [
        "**Task 1:** Prediction using Supervised Machine Learning\n",
        "\n",
        "**Problem Statement:** Predict the percentage of a student based on the number of hours he/she studied per day."
      ]
    },
    {
      "cell_type": "markdown",
      "metadata": {
        "id": "-LLbftV3riwz"
      },
      "source": [
        "**AUTHOR:** VENKATA SUBHASH MOVVA\n",
        "\n",
        "\n",
        "\n",
        "---\n",
        "\n"
      ]
    },
    {
      "cell_type": "markdown",
      "metadata": {
        "id": "rDkPA_EQ3RII"
      },
      "source": [
        "# **Importing Data**"
      ]
    },
    {
      "cell_type": "code",
      "metadata": {
        "id": "dEItomRBqqOz"
      },
      "source": [
        "# Importing required libraries\n",
        "\n",
        "import pandas as pd\n",
        "import numpy as np  \n",
        "import matplotlib.pyplot as plt  \n",
        "%matplotlib inline"
      ],
      "execution_count": 42,
      "outputs": []
    },
    {
      "cell_type": "code",
      "metadata": {
        "colab": {
          "base_uri": "https://localhost:8080/",
          "height": 357
        },
        "id": "xqwzylqCrLdG",
        "outputId": "6eb872e8-48d2-4e92-a646-ddc7f8279e34"
      },
      "source": [
        "# Loading Data\n",
        "\n",
        "url = \"http://bit.ly/w-data\"\n",
        "stu_data = pd.read_csv(url)\n",
        "stu_data.head(10)"
      ],
      "execution_count": 43,
      "outputs": [
        {
          "output_type": "execute_result",
          "data": {
            "text/html": [
              "<div>\n",
              "<style scoped>\n",
              "    .dataframe tbody tr th:only-of-type {\n",
              "        vertical-align: middle;\n",
              "    }\n",
              "\n",
              "    .dataframe tbody tr th {\n",
              "        vertical-align: top;\n",
              "    }\n",
              "\n",
              "    .dataframe thead th {\n",
              "        text-align: right;\n",
              "    }\n",
              "</style>\n",
              "<table border=\"1\" class=\"dataframe\">\n",
              "  <thead>\n",
              "    <tr style=\"text-align: right;\">\n",
              "      <th></th>\n",
              "      <th>Hours</th>\n",
              "      <th>Scores</th>\n",
              "    </tr>\n",
              "  </thead>\n",
              "  <tbody>\n",
              "    <tr>\n",
              "      <th>0</th>\n",
              "      <td>2.5</td>\n",
              "      <td>21</td>\n",
              "    </tr>\n",
              "    <tr>\n",
              "      <th>1</th>\n",
              "      <td>5.1</td>\n",
              "      <td>47</td>\n",
              "    </tr>\n",
              "    <tr>\n",
              "      <th>2</th>\n",
              "      <td>3.2</td>\n",
              "      <td>27</td>\n",
              "    </tr>\n",
              "    <tr>\n",
              "      <th>3</th>\n",
              "      <td>8.5</td>\n",
              "      <td>75</td>\n",
              "    </tr>\n",
              "    <tr>\n",
              "      <th>4</th>\n",
              "      <td>3.5</td>\n",
              "      <td>30</td>\n",
              "    </tr>\n",
              "    <tr>\n",
              "      <th>5</th>\n",
              "      <td>1.5</td>\n",
              "      <td>20</td>\n",
              "    </tr>\n",
              "    <tr>\n",
              "      <th>6</th>\n",
              "      <td>9.2</td>\n",
              "      <td>88</td>\n",
              "    </tr>\n",
              "    <tr>\n",
              "      <th>7</th>\n",
              "      <td>5.5</td>\n",
              "      <td>60</td>\n",
              "    </tr>\n",
              "    <tr>\n",
              "      <th>8</th>\n",
              "      <td>8.3</td>\n",
              "      <td>81</td>\n",
              "    </tr>\n",
              "    <tr>\n",
              "      <th>9</th>\n",
              "      <td>2.7</td>\n",
              "      <td>25</td>\n",
              "    </tr>\n",
              "  </tbody>\n",
              "</table>\n",
              "</div>"
            ],
            "text/plain": [
              "   Hours  Scores\n",
              "0    2.5      21\n",
              "1    5.1      47\n",
              "2    3.2      27\n",
              "3    8.5      75\n",
              "4    3.5      30\n",
              "5    1.5      20\n",
              "6    9.2      88\n",
              "7    5.5      60\n",
              "8    8.3      81\n",
              "9    2.7      25"
            ]
          },
          "metadata": {
            "tags": []
          },
          "execution_count": 43
        }
      ]
    },
    {
      "cell_type": "code",
      "metadata": {
        "colab": {
          "base_uri": "https://localhost:8080/"
        },
        "id": "EwZkOvXgraO0",
        "outputId": "4e79203a-cdc7-454a-f99c-8f008c93cd28"
      },
      "source": [
        "stu_data.info()"
      ],
      "execution_count": 44,
      "outputs": [
        {
          "output_type": "stream",
          "text": [
            "<class 'pandas.core.frame.DataFrame'>\n",
            "RangeIndex: 25 entries, 0 to 24\n",
            "Data columns (total 2 columns):\n",
            " #   Column  Non-Null Count  Dtype  \n",
            "---  ------  --------------  -----  \n",
            " 0   Hours   25 non-null     float64\n",
            " 1   Scores  25 non-null     int64  \n",
            "dtypes: float64(1), int64(1)\n",
            "memory usage: 528.0 bytes\n"
          ],
          "name": "stdout"
        }
      ]
    },
    {
      "cell_type": "markdown",
      "metadata": {
        "id": "Pbt_STCwmfN1"
      },
      "source": [
        "\n",
        "\n",
        "---\n",
        "\n",
        "\n",
        "**Attempt to find any relationship between data**"
      ]
    },
    {
      "cell_type": "code",
      "metadata": {
        "colab": {
          "base_uri": "https://localhost:8080/",
          "height": 295
        },
        "id": "f8wfeTdArqcj",
        "outputId": "5b43a79a-ac7f-442d-8027-7659645e7649"
      },
      "source": [
        "# Plotting the data\n",
        "\n",
        "stu_data.plot(x = 'Hours', y = 'Scores', style = 'mo')  \n",
        "plt.title('# Study Hours vs Percentage')  \n",
        "plt.xlabel('Hours Studied')  \n",
        "plt.ylabel('Percentage Scored')  \n",
        "plt.show()"
      ],
      "execution_count": 45,
      "outputs": [
        {
          "output_type": "display_data",
          "data": {
            "image/png": "[encoded data removed]",
            "text/plain": [
              "<Figure size 432x288 with 1 Axes>"
            ]
          },
          "metadata": {
            "tags": [],
            "needs_background": "light"
          }
        }
      ]
    },
    {
      "cell_type": "markdown",
      "metadata": {
        "id": "OOZaz4fIm7aC"
      },
      "source": [
        "Graph indicates **positive** linear relationship between the variables **'Hours'** and **'Scores'**\n",
        "\n",
        "\n",
        "---\n",
        "\n"
      ]
    },
    {
      "cell_type": "markdown",
      "metadata": {
        "id": "xGBR6pmsne5h"
      },
      "source": [
        "# **Data Preparation**\n",
        "Dividing the data into attributes and labels"
      ]
    },
    {
      "cell_type": "code",
      "metadata": {
        "id": "0-YfOTvwtCuY"
      },
      "source": [
        "X = stu_data.iloc[:, :-1].values # Hours\n",
        "y = stu_data.iloc[:, 1].values # Scores "
      ],
      "execution_count": 46,
      "outputs": []
    },
    {
      "cell_type": "markdown",
      "metadata": {
        "id": "tSZGZlxon-zD"
      },
      "source": [
        "Splitting the data into training and test sets "
      ]
    },
    {
      "cell_type": "code",
      "metadata": {
        "id": "7c11TNgbtgi_"
      },
      "source": [
        "from sklearn.model_selection import train_test_split  \n",
        "X_train, X_test, y_train, y_test = train_test_split(X, y, test_size = 0.2, random_state = 0) "
      ],
      "execution_count": 47,
      "outputs": []
    },
    {
      "cell_type": "markdown",
      "metadata": {
        "id": "7TzjLxSXoIGA"
      },
      "source": [
        "# **Training the algorithm**"
      ]
    },
    {
      "cell_type": "code",
      "metadata": {
        "colab": {
          "base_uri": "https://localhost:8080/"
        },
        "id": "3byhBHApuPVx",
        "outputId": "12d109d8-7561-4cd0-9103-9e1e6f0d63d5"
      },
      "source": [
        "from sklearn.linear_model import LinearRegression  \n",
        "regressor = LinearRegression()  \n",
        "regressor.fit(X_train, y_train) \n",
        "\n",
        "print(\"Training complete.\")"
      ],
      "execution_count": 48,
      "outputs": [
        {
          "output_type": "stream",
          "text": [
            "Training complete.\n"
          ],
          "name": "stdout"
        }
      ]
    },
    {
      "cell_type": "code",
      "metadata": {
        "colab": {
          "base_uri": "https://localhost:8080/",
          "height": 265
        },
        "id": "aU6LANT-uUbx",
        "outputId": "42aa881b-f9c1-4c7e-93d2-f7b9a0f24a16"
      },
      "source": [
        "# Plotting the regression line\n",
        "\n",
        "line = regressor.coef_ * X + regressor.intercept_ # line equation\n",
        "\n",
        "# Plotting for the test data\n",
        "plt.scatter(X, y)\n",
        "plt.plot(X, line)\n",
        "plt.show()"
      ],
      "execution_count": 49,
      "outputs": [
        {
          "output_type": "display_data",
          "data": {
            "image/png": "[encoded data removed]",
            "text/plain": [
              "<Figure size 432x288 with 1 Axes>"
            ]
          },
          "metadata": {
            "tags": [],
            "needs_background": "light"
          }
        }
      ]
    },
    {
      "cell_type": "markdown",
      "metadata": {
        "id": "cw4JQrccokhk"
      },
      "source": [
        "# **Making Predictions**"
      ]
    },
    {
      "cell_type": "code",
      "metadata": {
        "colab": {
          "base_uri": "https://localhost:8080/"
        },
        "id": "u_5Jvpgaudio",
        "outputId": "4bea869b-dbbd-49c8-88b4-8b6bcc1e2517"
      },
      "source": [
        "print(X_test) # Testing data - In Hours"
      ],
      "execution_count": 50,
      "outputs": [
        {
          "output_type": "stream",
          "text": [
            "[[1.5]\n",
            " [3.2]\n",
            " [7.4]\n",
            " [2.5]\n",
            " [5.9]]\n"
          ],
          "name": "stdout"
        }
      ]
    },
    {
      "cell_type": "code",
      "metadata": {
        "colab": {
          "base_uri": "https://localhost:8080/",
          "height": 203
        },
        "id": "RDqPMxixun0o",
        "outputId": "b92393ca-e77c-4ec5-b641-12978598ffb0"
      },
      "source": [
        "y_pred = regressor.predict(X_test) # Predicting the scores\n",
        "\n",
        "# Comparing Actual vs Predicted\n",
        "df = pd.DataFrame({'Actual': y_test, 'Predicted': y_pred})  \n",
        "df "
      ],
      "execution_count": 51,
      "outputs": [
        {
          "output_type": "execute_result",
          "data": {
            "text/html": [
              "<div>\n",
              "<style scoped>\n",
              "    .dataframe tbody tr th:only-of-type {\n",
              "        vertical-align: middle;\n",
              "    }\n",
              "\n",
              "    .dataframe tbody tr th {\n",
              "        vertical-align: top;\n",
              "    }\n",
              "\n",
              "    .dataframe thead th {\n",
              "        text-align: right;\n",
              "    }\n",
              "</style>\n",
              "<table border=\"1\" class=\"dataframe\">\n",
              "  <thead>\n",
              "    <tr style=\"text-align: right;\">\n",
              "      <th></th>\n",
              "      <th>Actual</th>\n",
              "      <th>Predicted</th>\n",
              "    </tr>\n",
              "  </thead>\n",
              "  <tbody>\n",
              "    <tr>\n",
              "      <th>0</th>\n",
              "      <td>20</td>\n",
              "      <td>16.884145</td>\n",
              "    </tr>\n",
              "    <tr>\n",
              "      <th>1</th>\n",
              "      <td>27</td>\n",
              "      <td>33.732261</td>\n",
              "    </tr>\n",
              "    <tr>\n",
              "      <th>2</th>\n",
              "      <td>69</td>\n",
              "      <td>75.357018</td>\n",
              "    </tr>\n",
              "    <tr>\n",
              "      <th>3</th>\n",
              "      <td>30</td>\n",
              "      <td>26.794801</td>\n",
              "    </tr>\n",
              "    <tr>\n",
              "      <th>4</th>\n",
              "      <td>62</td>\n",
              "      <td>60.491033</td>\n",
              "    </tr>\n",
              "  </tbody>\n",
              "</table>\n",
              "</div>"
            ],
            "text/plain": [
              "   Actual  Predicted\n",
              "0      20  16.884145\n",
              "1      27  33.732261\n",
              "2      69  75.357018\n",
              "3      30  26.794801\n",
              "4      62  60.491033"
            ]
          },
          "metadata": {
            "tags": []
          },
          "execution_count": 51
        }
      ]
    },
    {
      "cell_type": "markdown",
      "metadata": {
        "id": "97Esh_7upLBX"
      },
      "source": [
        "Testing with our own data"
      ]
    },
    {
      "cell_type": "code",
      "metadata": {
        "id": "L_IFfplIpmY1"
      },
      "source": [
        "# Function to predict the student's percentage based on no. of hours he/she studied per day\n",
        "\n",
        "def prediction(x):\n",
        "  hours = np.array([x])\n",
        "  hours = hours.reshape(-1, 1)\n",
        "  own_pred = regressor.predict(hours)\n",
        "  print(\"No. of Hours = {}\".format(float(hours)))\n",
        "  print(\"Predicted Score = {}\".format(round(own_pred[0], 2))) "
      ],
      "execution_count": 52,
      "outputs": []
    },
    {
      "cell_type": "code",
      "metadata": {
        "colab": {
          "base_uri": "https://localhost:8080/"
        },
        "id": "MQZxxYxYpz2R",
        "outputId": "fd909b0a-b637-43ef-f51a-23634d8875fb"
      },
      "source": [
        "# Predicting the score, if a student studies for 9.25 hrs/day?\n",
        "\n",
        "prediction(9.25)"
      ],
      "execution_count": 53,
      "outputs": [
        {
          "output_type": "stream",
          "text": [
            "No. of Hours = 9.25\n",
            "Predicted Score = 93.69\n"
          ],
          "name": "stdout"
        }
      ]
    },
    {
      "cell_type": "code",
      "metadata": {
        "colab": {
          "base_uri": "https://localhost:8080/"
        },
        "id": "u6tbwkwAqAdL",
        "outputId": "d4992d9d-02d1-4449-ad7a-fef044256f12"
      },
      "source": [
        "# Predicting the score, if a student studies for 6.5 hrs/day?\n",
        "\n",
        "prediction(6.5)"
      ],
      "execution_count": 54,
      "outputs": [
        {
          "output_type": "stream",
          "text": [
            "No. of Hours = 6.5\n",
            "Predicted Score = 66.44\n"
          ],
          "name": "stdout"
        }
      ]
    },
    {
      "cell_type": "markdown",
      "metadata": {
        "id": "637SqaZzot5O"
      },
      "source": [
        "# **Model Evaluation**\n",
        "\n",
        "Evaluating the performance of our algorithm"
      ]
    },
    {
      "cell_type": "code",
      "metadata": {
        "colab": {
          "base_uri": "https://localhost:8080/"
        },
        "id": "Ku_4VScuwja7",
        "outputId": "68b80e78-7710-47bf-9085-283910325900"
      },
      "source": [
        "from sklearn import metrics  \n",
        "\n",
        "# Mean Absolute Error\n",
        "mse = (metrics.mean_absolute_error(y_test, y_pred))\n",
        "print(\"Mean Absolute Error:\", mse)\n",
        "\n",
        "# Root Mean Squared Error\n",
        "rmse = (np.sqrt(metrics.mean_squared_error(y_test, y_pred)))\n",
        "print(\"Root Mean Squared Error:\", rmse)\n",
        "\n",
        "# Coefficient of Determination\n",
        "r2 =  metrics.r2_score(y_test, y_pred)\n",
        "print(\"R-Square:\", r2)"
      ],
      "execution_count": 55,
      "outputs": [
        {
          "output_type": "stream",
          "text": [
            "Mean Absolute Error: 4.183859899002982\n",
            "Root Mean Squared Error: 4.647447612100373\n",
            "R-Square: 0.9454906892105354\n"
          ],
          "name": "stdout"
        }
      ]
    }
  ]
}